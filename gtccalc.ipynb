{
 "cells": [
  {
   "cell_type": "code",
   "execution_count": 18,
   "metadata": {
    "collapsed": true
   },
   "outputs": [
    {
     "name": "stdout",
     "output_type": "stream",
     "text": [
      " 0.7649(11)\n"
     ]
    }
   ],
   "source": [
    "from GTC import *\n",
    "# define variables with uncertainties\n",
    "permassfracH2O = ureal(36.68,0.14,label='x(H2O)%')\n",
    "molmassH2O = ureal(18.016,0.01,label='MM(H2O)')\n",
    "molmassTEA = ureal(101.19,0.01,label='MM((C2H5)3N)')\n",
    "# perform calculation\n",
    "molesH2O = permassfracH2O/molmassH2O\n",
    "permassfracTEA = 100 - permassfracH2O\n",
    "molesTEA = permassfracTEA/molmassTEA\n",
    "totalmoles = molesH2O + molesTEA\n",
    "molfracH2O = molesH2O/totalmoles\n",
    "# display calculated result with uncertainity\n",
    "print(molfracH2O)"
   ]
  },
  {
   "cell_type": "code",
   "execution_count": 19,
   "outputs": [
    {
     "name": "stdout",
     "output_type": "stream",
     "text": [
      "molfracH2O=0.764906, u=0.00108867\n"
     ]
    }
   ],
   "source": [
    "# display unrounded values of the result and uncertainity\n",
    "print(\"molfracH2O={:G}, u={:G}\".format(molfracH2O.x,molfracH2O.u))"
   ],
   "metadata": {
    "collapsed": false
   }
  },
  {
   "cell_type": "code",
   "execution_count": 20,
   "outputs": [
    {
     "name": "stdout",
     "output_type": "stream",
     "text": [
      " x(H2O)%: 0.00108394\n",
      " MM(H2O): 9.98138E-05\n",
      " MM((C2H5)3N): 1.7771E-05\n"
     ]
    }
   ],
   "source": [
    "# look at the uncertainty budget for the calcuation\n",
    "for cp, u, uid in rp.budget(molfracH2O):\n",
    "    print(\" {}: {:G}\".format(cp,u))"
   ],
   "metadata": {
    "collapsed": false
   }
  },
  {
   "cell_type": "markdown",
   "source": [
    "### Uncertainty values for intermediate calculations"
   ],
   "metadata": {
    "collapsed": false
   }
  },
  {
   "cell_type": "code",
   "execution_count": 21,
   "outputs": [
    {
     "name": "stdout",
     "output_type": "stream",
     "text": [
      "molfracH2O=2.03597, u=0.00785261\n"
     ]
    }
   ],
   "source": [
    "# uncertaintity for the mole fraction of H20 result\n",
    "print(\"molfracH2O={:G}, u={:G}\".format(molesH2O.x,molesH2O.u))"
   ],
   "metadata": {
    "collapsed": false
   }
  },
  {
   "cell_type": "code",
   "execution_count": 22,
   "outputs": [
    {
     "name": "stdout",
     "output_type": "stream",
     "text": [
      "permassfracTEA=63.32, u=0.14\n"
     ]
    }
   ],
   "source": [
    "# uncertaintity for the mole fraction of H20 result\n",
    "print(\"permassfracTEA={:G}, u={:G}\".format(permassfracTEA.x,permassfracTEA.u))"
   ],
   "metadata": {
    "collapsed": false
   }
  },
  {
   "cell_type": "code",
   "execution_count": 25,
   "outputs": [
    {
     "name": "stdout",
     "output_type": "stream",
     "text": [
      "molesTEA=0.625754, u=0.00138492\n"
     ]
    }
   ],
   "source": [
    "# uncertaintity for the mole fraction of H20 result\n",
    "print(\"molesTEA={:G}, u={:G}\".format(molesTEA.x,molesTEA.u))"
   ],
   "metadata": {
    "collapsed": false
   }
  },
  {
   "cell_type": "code",
   "execution_count": 26,
   "outputs": [
    {
     "name": "stdout",
     "output_type": "stream",
     "text": [
      "totalmoles=2.66172, u=0.00648683\n"
     ]
    }
   ],
   "source": [
    "# uncertaintity for the totla # of moles (H2O + TEA)\n",
    "print(\"totalmoles={:G}, u={:G}\".format(totalmoles.x,totalmoles.u))"
   ],
   "metadata": {
    "collapsed": false
   }
  },
  {
   "cell_type": "code",
   "execution_count": null,
   "outputs": [],
   "source": [],
   "metadata": {
    "collapsed": false
   }
  }
 ],
 "metadata": {
  "kernelspec": {
   "display_name": "Python 3",
   "language": "python",
   "name": "python3"
  },
  "language_info": {
   "codemirror_mode": {
    "name": "ipython",
    "version": 2
   },
   "file_extension": ".py",
   "mimetype": "text/x-python",
   "name": "python",
   "nbconvert_exporter": "python",
   "pygments_lexer": "ipython2",
   "version": "2.7.6"
  }
 },
 "nbformat": 4,
 "nbformat_minor": 0
}
